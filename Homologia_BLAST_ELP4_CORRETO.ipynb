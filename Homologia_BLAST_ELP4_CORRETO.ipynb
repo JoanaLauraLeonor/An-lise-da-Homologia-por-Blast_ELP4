{
 "cells": [
  {
   "cell_type": "markdown",
   "metadata": {},
   "source": [
    "Análise de homologia por BLAST - GENE ELP4\n",
    "Nota:Para a realização de todo o código do trabalho teve-se em conta o tutorial do Biopython. Nesta parte em específico para além de se ter em conta tutorial do Biopython teve-se em conta a resolução de algumas fichas de trabalhos sobre a parte da homlogia resolvidas por alunos dos anos anteriores.\n",
    "Consoante os códigos que estavam disponíveis no tutorial e essas mesmas resoluções, tentamos adaptar ós diferentes códigos encontrados aos genes de interesse, neste caso tentamos adaptar ao gene ELP4."
   ]
  },
  {
   "cell_type": "markdown",
   "metadata": {},
   "source": [
    "1.Para a parte da homologia podíamos fazer de duas maneiras distintas: Primeira: A partir do ficheiro do GenBank obtido no ficheiro Jupyter \"NCBI_GENBANK_ELP4_novo\" para o Gene ELP4 sabíamos qual era a proteína codificada por este gene e qual o seu ID ( passo número 2). Consequentemente, recorrendo ao site do NCBI, gravava-se o ficheiro da proteína em formato Fasta; Segunda:com base no ficheiro \"NCBI_GENBANK_ELP4_novo\" conseguíamos saber qual a sequência proteica codificada pelo gene ELP4 ( tanto o nome, como a própria sequência-no passo número 5) e posteriormente, podíamos convertê-la para um ficheiro em formato fasta.\n",
    "Para esta parte da homologia tívemos então em conta a primeira das duas maneiras mencionadas em cima.\n",
    "1.1.Utilzou-se um dos modulos do Biopython, o Bio.SeqIO, e verificou-se quantos aminoáciodos tinha a sequência guardada/gravada e imprimiu-se a sequência, só para verificar que a sequência guardada foi mesmo a sequência proteica que queríamos analisar.( a sequencia proteica codificada pelo gene ELP4 - NP_061913.3)"
   ]
  },
  {
   "cell_type": "code",
   "execution_count": 1,
   "metadata": {},
   "outputs": [
    {
     "name": "stdout",
     "output_type": "stream",
     "text": [
      "424\n",
      "MAAVATCGSVAASTGSAVATASKSNVTSFQRRGPRASVTNDSGPRLVSIAGTRPSVRNGQLLVSTGLPALDQLLGGGLAVGTVLLIEEDKYNIYSPLLFKYFLAEGIVNGHTLLVASAKEDPANILQELPAPLLDDKCKKEFDEDVYNHKTPESNIKMKIAWRYQLLPKMEIGPVSSSRFGHYYDASKRMPQELIEASNWHGFFLPEKISSTLKVEPCSLTPGYTKLLQFIQNIIYEEGFDGSNPQKKQRNILRIGIQNLGSPLWGDDICCAENGGNSHSLTKFLYVLRGLLRTSLSACIITMPTHLIQNKAIIARVTTLSDVVVGLESFIGSERETNPLYKDYHGLIHIRQIPRLNNLICDESDVKDLAFKLKRKLFTIERLHLPPDLSDTVSRSSKMDLAESAKRLGPGCGMMAGGKKHLDF\n"
     ]
    }
   ],
   "source": [
    "from Bio import SeqIO\n",
    "ficheiro=SeqIO.read(\"sequence_ELP4.fasta\",\"fasta\")\n",
    "sequencia=ficheiro.seq\n",
    "tamanho=len(sequencia)\n",
    "print(tamanho)\n",
    "print(sequencia)"
   ]
  },
  {
   "cell_type": "markdown",
   "metadata": {},
   "source": [
    "2.Recorrendo a outras funções que se encontram no Biopython como a Bio.Blast, efetuou-se uma pesquisa por sequências similares (no NCBI, mais especificamente na ferramenta BLAST-blastp), à sequência proteica guardada em formato fasta codificada pelo gene ELP4. Utilizou-se a base de dados \"nr->non-redundant\" uma vez que se trata de uma sequência proteica."
   ]
  },
  {
   "cell_type": "code",
   "execution_count": 2,
   "metadata": {},
   "outputs": [],
   "source": [
    "from Bio.Blast import NCBIWWW\n",
    "blast=NCBIWWW.qblast(\"blastp\",\"nr\",ficheiro.format(\"fasta\"))"
   ]
  },
  {
   "cell_type": "markdown",
   "metadata": {},
   "source": [
    "3.Seguidamente,apresenta-se o código que gravou o resultado de todas as sequências que alinhavam com a sequência proteica do gene ELP4 num ficheiro XML"
   ]
  },
  {
   "cell_type": "code",
   "execution_count": 3,
   "metadata": {},
   "outputs": [],
   "source": [
    "save_file=open(\"blast_SEQUENCE.xml\",\"w\")\n",
    "save_file.write(blast.read())\n",
    "save_file.close()\n",
    "blast.close()"
   ]
  },
  {
   "cell_type": "markdown",
   "metadata": {},
   "source": [
    "4.Mais uma vez, recorrendo a funções existentes no Biopython, realizou-se o parsing do ficheiro guardado em XML ( NCBIXML.parse(resultados)).Depois,de se fazer o parsing do ficheiro analisou-se os parâmetros globais da pesquisa, verificando-se assim a base de dados utilizada, a matriz de substituição e os parâmetros para os espaçamentos. "
   ]
  },
  {
   "cell_type": "code",
   "execution_count": 4,
   "metadata": {},
   "outputs": [],
   "source": [
    "resultados=open(\"blast_SEQUENCE.xml\")\n",
    "from Bio.Blast import NCBIXML\n",
    "blast_resultados=NCBIXML.parse(resultados)\n",
    "for blast_resultados in blast_resultados:\n",
    "    matriz=blast_resultados.matrix\n",
    "    base_dados=blast_resultados.database\n",
    "    espacamentos=blast_resultados.gap_penalties"
   ]
  },
  {
   "cell_type": "code",
   "execution_count": 5,
   "metadata": {},
   "outputs": [
    {
     "data": {
      "text/plain": [
       "1"
      ]
     },
     "execution_count": 5,
     "metadata": {},
     "output_type": "execute_result"
    }
   ],
   "source": [
    "x = blast_resultados.alignments[0]\n",
    "# for h in blast_resultados.alignments[0].hsps:\n",
    "len(blast_resultados.alignments[0].hsps)"
   ]
  },
  {
   "cell_type": "markdown",
   "metadata": {},
   "source": [
    "5.Usando o objeto anterior, verificou-se: o número de alinhamentos do registo ( valor limite: 50- parâmetro que foi estipulado. Na prática o alinhamento foi feito com 100 sequências, como se pode ver no site)\n",
    "Analisou-se com pormenor os dez primeiros destes alinhamentos verificando o “acession” da sequência que fez match, o id do hit, a sua definição e o número de HSPs do alinhamento. Porém podia se fazer também para os restantes alinhamentos, modificando se apenas o número que se encontra dentro de parêntises retos, entre 0 e 49.  \n",
    "Consoante os resultados obtidos, pela a análise do alinhamento identificar a proteína que nos foi dada."
   ]
  },
  {
   "cell_type": "code",
   "execution_count": 6,
   "metadata": {},
   "outputs": [
    {
     "name": "stdout",
     "output_type": "stream",
     "text": [
      "50\n",
      "ref|NP_061913.3| elongator complex protein 4 isoform 1 [Homo sapiens] >sp|Q96EB1.2| RecName: Full=Elongator complex protein 4; Short=hELP4; AltName: Full=PAX6 neighbor gene protein [Homo sapiens] >emb|CAL38337.1| hypothetical protein, partial [synthetic construct] >emb|CAB66612.1| hypothetical protein [Homo sapiens] >emb|CAL38732.1| hypothetical protein, partial [synthetic construct] >dbj|BAA91212.1| unnamed protein product [Homo sapiens] >dbj|BAG72535.1| elongation protein 4 homolog, partial [synthetic construct]\n",
      "           Length = 424\n",
      "\n",
      "ref|NP_061913.3|\n",
      "elongator complex protein 4 isoform 1 [Homo sapiens] >sp|Q96EB1.2| RecName: Full=Elongator complex protein 4; Short=hELP4; AltName: Full=PAX6 neighbor gene protein [Homo sapiens] >emb|CAL38337.1| hypothetical protein, partial [synthetic construct] >emb|CAB66612.1| hypothetical protein [Homo sapiens] >emb|CAL38732.1| hypothetical protein, partial [synthetic construct] >dbj|BAA91212.1| unnamed protein product [Homo sapiens] >dbj|BAG72535.1| elongation protein 4 homolog, partial [synthetic construct]\n",
      "NP_061913\n",
      "[<Bio.Blast.Record.HSP object at 0x000001368D7975F8>]\n",
      "1\n"
     ]
    }
   ],
   "source": [
    "resultados_alinhamento=blast_resultados.alignments\n",
    "print(len(resultados_alinhamento)) \n",
    "print(resultados_alinhamento[0])\n",
    "alinhamento=resultados_alinhamento[0]\n",
    "print(alinhamento.hit_id)\n",
    "print(alinhamento.hit_def)\n",
    "print(alinhamento.accession)\n",
    "print(alinhamento.hsps)\n",
    "print(len(alinhamento.hsps))"
   ]
  },
  {
   "cell_type": "code",
   "execution_count": 7,
   "metadata": {},
   "outputs": [
    {
     "data": {
      "text/plain": [
       "1"
      ]
     },
     "execution_count": 7,
     "metadata": {},
     "output_type": "execute_result"
    }
   ],
   "source": [
    "x = blast_resultados.alignments[1]\n",
    "# for h in blast_resultados.alignments[1].hsps:\n",
    "len(blast_resultados.alignments[1].hsps)"
   ]
  },
  {
   "cell_type": "code",
   "execution_count": 8,
   "metadata": {},
   "outputs": [
    {
     "name": "stdout",
     "output_type": "stream",
     "text": [
      "50\n",
      "ref|XP_003830461.1| elongator complex protein 4 isoform X2 [Pan paniscus]\n",
      "           Length = 424\n",
      "\n",
      "ref|XP_003830461.1|\n",
      "elongator complex protein 4 isoform X2 [Pan paniscus]\n",
      "XP_003830461\n",
      "[<Bio.Blast.Record.HSP object at 0x000001368D7976D8>]\n",
      "1\n"
     ]
    }
   ],
   "source": [
    "resultados_alinhamento=blast_resultados.alignments\n",
    "print(len(resultados_alinhamento)) \n",
    "print(resultados_alinhamento[1])\n",
    "alinhamento=resultados_alinhamento[1]\n",
    "print(alinhamento.hit_id)\n",
    "print(alinhamento.hit_def)\n",
    "print(alinhamento.accession)\n",
    "print(alinhamento.hsps)\n",
    "print(len(alinhamento.hsps))"
   ]
  },
  {
   "cell_type": "code",
   "execution_count": 9,
   "metadata": {},
   "outputs": [
    {
     "data": {
      "text/plain": [
       "1"
      ]
     },
     "execution_count": 9,
     "metadata": {},
     "output_type": "execute_result"
    }
   ],
   "source": [
    "x = blast_resultados.alignments[2]\n",
    "# for h in blast_resultados.alignments[2].hsps:\n",
    "len(blast_resultados.alignments[2].hsps)"
   ]
  },
  {
   "cell_type": "code",
   "execution_count": 10,
   "metadata": {},
   "outputs": [
    {
     "name": "stdout",
     "output_type": "stream",
     "text": [
      "50\n",
      "ref|XP_004050935.1| elongator complex protein 4 isoform X1 [Gorilla gorilla gorilla]\n",
      "           Length = 424\n",
      "\n",
      "ref|XP_004050935.1|\n",
      "elongator complex protein 4 isoform X1 [Gorilla gorilla gorilla]\n",
      "XP_004050935\n",
      "[<Bio.Blast.Record.HSP object at 0x000001368D797780>]\n",
      "1\n"
     ]
    }
   ],
   "source": [
    "resultados_alinhamento=blast_resultados.alignments\n",
    "print(len(resultados_alinhamento)) \n",
    "print(resultados_alinhamento[2])\n",
    "alinhamento=resultados_alinhamento[2]\n",
    "print(alinhamento.hit_id)\n",
    "print(alinhamento.hit_def)\n",
    "print(alinhamento.accession)\n",
    "print(alinhamento.hsps)\n",
    "print(len(alinhamento.hsps))"
   ]
  },
  {
   "cell_type": "code",
   "execution_count": 11,
   "metadata": {},
   "outputs": [
    {
     "data": {
      "text/plain": [
       "1"
      ]
     },
     "execution_count": 11,
     "metadata": {},
     "output_type": "execute_result"
    }
   ],
   "source": [
    "x = blast_resultados.alignments[3]\n",
    "# for h in blast_resultados.alignments[3].hsps:\n",
    "len(blast_resultados.alignments[3].hsps)"
   ]
  },
  {
   "cell_type": "code",
   "execution_count": 12,
   "metadata": {},
   "outputs": [
    {
     "name": "stdout",
     "output_type": "stream",
     "text": [
      "50\n",
      "ref|XP_008954125.1| elongator complex protein 4 isoform X1 [Pan paniscus]\n",
      "           Length = 425\n",
      "\n",
      "ref|XP_008954125.1|\n",
      "elongator complex protein 4 isoform X1 [Pan paniscus]\n",
      "XP_008954125\n",
      "[<Bio.Blast.Record.HSP object at 0x000001368D797828>]\n",
      "1\n"
     ]
    }
   ],
   "source": [
    "resultados_alinhamento=blast_resultados.alignments\n",
    "print(len(resultados_alinhamento)) \n",
    "print(resultados_alinhamento[3])\n",
    "alinhamento=resultados_alinhamento[3]\n",
    "print(alinhamento.hit_id)\n",
    "print(alinhamento.hit_def)\n",
    "print(alinhamento.accession)\n",
    "print(alinhamento.hsps)\n",
    "print(len(alinhamento.hsps))"
   ]
  },
  {
   "cell_type": "code",
   "execution_count": 13,
   "metadata": {},
   "outputs": [
    {
     "data": {
      "text/plain": [
       "1"
      ]
     },
     "execution_count": 13,
     "metadata": {},
     "output_type": "execute_result"
    }
   ],
   "source": [
    "x = blast_resultados.alignments[4]\n",
    "# for h in blast_resultados.alignments[4].hsps:\n",
    "len(blast_resultados.alignments[4].hsps)"
   ]
  },
  {
   "cell_type": "code",
   "execution_count": 14,
   "metadata": {},
   "outputs": [
    {
     "name": "stdout",
     "output_type": "stream",
     "text": [
      "50\n",
      "gb|EAW68237.1| elongation protein 4 homolog (S. cerevisiae), isoform CRA_a [Homo sapiens]\n",
      "           Length = 422\n",
      "\n",
      "gb|EAW68237.1|\n",
      "elongation protein 4 homolog (S. cerevisiae), isoform CRA_a [Homo sapiens]\n",
      "EAW68237\n",
      "[<Bio.Blast.Record.HSP object at 0x000001368D7978D0>]\n",
      "1\n"
     ]
    }
   ],
   "source": [
    "resultados_alinhamento=blast_resultados.alignments\n",
    "print(len(resultados_alinhamento)) \n",
    "print(resultados_alinhamento[4])\n",
    "alinhamento=resultados_alinhamento[4]\n",
    "print(alinhamento.hit_id)\n",
    "print(alinhamento.hit_def)\n",
    "print(alinhamento.accession)\n",
    "print(alinhamento.hsps)\n",
    "print(len(alinhamento.hsps))"
   ]
  },
  {
   "cell_type": "code",
   "execution_count": 15,
   "metadata": {},
   "outputs": [
    {
     "data": {
      "text/plain": [
       "1"
      ]
     },
     "execution_count": 15,
     "metadata": {},
     "output_type": "execute_result"
    }
   ],
   "source": [
    "x = blast_resultados.alignments[5]\n",
    "# for h in blast_resultados.alignments[5].hsps:\n",
    "len(blast_resultados.alignments[5].hsps)"
   ]
  },
  {
   "cell_type": "code",
   "execution_count": 16,
   "metadata": {},
   "outputs": [
    {
     "name": "stdout",
     "output_type": "stream",
     "text": [
      "50\n",
      "ref|XP_508351.2| elongator complex protein 4 isoform X5 [Pan troglodytes] >gb|PNI78822.1| ELP4 isoform 1 [Pan troglodytes]\n",
      "           Length = 424\n",
      "\n",
      "ref|XP_508351.2|\n",
      "elongator complex protein 4 isoform X5 [Pan troglodytes] >gb|PNI78822.1| ELP4 isoform 1 [Pan troglodytes]\n",
      "XP_508351\n",
      "[<Bio.Blast.Record.HSP object at 0x000001368D797978>]\n",
      "1\n"
     ]
    }
   ],
   "source": [
    "resultados_alinhamento=blast_resultados.alignments\n",
    "print(len(resultados_alinhamento)) \n",
    "print(resultados_alinhamento[5])\n",
    "alinhamento=resultados_alinhamento[5]\n",
    "print(alinhamento.hit_id)\n",
    "print(alinhamento.hit_def)\n",
    "print(alinhamento.accession)\n",
    "print(alinhamento.hsps)\n",
    "print(len(alinhamento.hsps))"
   ]
  },
  {
   "cell_type": "code",
   "execution_count": 17,
   "metadata": {},
   "outputs": [
    {
     "data": {
      "text/plain": [
       "1"
      ]
     },
     "execution_count": 17,
     "metadata": {},
     "output_type": "execute_result"
    }
   ],
   "source": [
    "x = blast_resultados.alignments[6]\n",
    "# for h in blast_resultados.alignments[6].hsps:\n",
    "len(blast_resultados.alignments[6].hsps)"
   ]
  },
  {
   "cell_type": "code",
   "execution_count": 18,
   "metadata": {},
   "outputs": [
    {
     "name": "stdout",
     "output_type": "stream",
     "text": [
      "50\n",
      "ref|XP_002821963.1| elongator complex protein 4 isoform X2 [Pongo abelii] >gb|PNJ68858.1| ELP4 isoform 1 [Pongo abelii]\n",
      "           Length = 424\n",
      "\n",
      "ref|XP_002821963.1|\n",
      "elongator complex protein 4 isoform X2 [Pongo abelii] >gb|PNJ68858.1| ELP4 isoform 1 [Pongo abelii]\n",
      "XP_002821963\n",
      "[<Bio.Blast.Record.HSP object at 0x000001368D7979B0>]\n",
      "1\n"
     ]
    }
   ],
   "source": [
    "resultados_alinhamento=blast_resultados.alignments\n",
    "print(len(resultados_alinhamento)) \n",
    "print(resultados_alinhamento[6])\n",
    "alinhamento=resultados_alinhamento[6]\n",
    "print(alinhamento.hit_id)\n",
    "print(alinhamento.hit_def)\n",
    "print(alinhamento.accession)\n",
    "print(alinhamento.hsps)\n",
    "print(len(alinhamento.hsps))"
   ]
  },
  {
   "cell_type": "code",
   "execution_count": 19,
   "metadata": {},
   "outputs": [
    {
     "data": {
      "text/plain": [
       "1"
      ]
     },
     "execution_count": 19,
     "metadata": {},
     "output_type": "execute_result"
    }
   ],
   "source": [
    "x = blast_resultados.alignments[7]\n",
    "# for h in blast_resultados.alignments[7].hsps:\n",
    "len(blast_resultados.alignments[7].hsps)"
   ]
  },
  {
   "cell_type": "code",
   "execution_count": 20,
   "metadata": {},
   "outputs": [
    {
     "name": "stdout",
     "output_type": "stream",
     "text": [
      "50\n",
      "ref|XP_003254418.1| elongator complex protein 4 isoform X2 [Nomascus leucogenys]\n",
      "           Length = 424\n",
      "\n",
      "ref|XP_003254418.1|\n",
      "elongator complex protein 4 isoform X2 [Nomascus leucogenys]\n",
      "XP_003254418\n",
      "[<Bio.Blast.Record.HSP object at 0x000001368D797AC8>]\n",
      "1\n"
     ]
    }
   ],
   "source": [
    "resultados_alinhamento=blast_resultados.alignments\n",
    "print(len(resultados_alinhamento)) \n",
    "print(resultados_alinhamento[7])\n",
    "alinhamento=resultados_alinhamento[7]\n",
    "print(alinhamento.hit_id)\n",
    "print(alinhamento.hit_def)\n",
    "print(alinhamento.accession)\n",
    "print(alinhamento.hsps)\n",
    "print(len(alinhamento.hsps))"
   ]
  },
  {
   "cell_type": "code",
   "execution_count": 21,
   "metadata": {},
   "outputs": [
    {
     "data": {
      "text/plain": [
       "1"
      ]
     },
     "execution_count": 21,
     "metadata": {},
     "output_type": "execute_result"
    }
   ],
   "source": [
    "x = blast_resultados.alignments[8]\n",
    "# for h in blast_resultados.alignments[8].hsps:\n",
    "len(blast_resultados.alignments[8].hsps)"
   ]
  },
  {
   "cell_type": "code",
   "execution_count": 22,
   "metadata": {},
   "outputs": [
    {
     "name": "stdout",
     "output_type": "stream",
     "text": [
      "50\n",
      "ref|XP_009458459.1| elongator complex protein 4 isoform X4 [Pan troglodytes] >gb|PNI78826.1| ELP4 isoform 5 [Pan troglodytes]\n",
      "           Length = 425\n",
      "\n",
      "ref|XP_009458459.1|\n",
      "elongator complex protein 4 isoform X4 [Pan troglodytes] >gb|PNI78826.1| ELP4 isoform 5 [Pan troglodytes]\n",
      "XP_009458459\n",
      "[<Bio.Blast.Record.HSP object at 0x000001368D797B70>]\n",
      "1\n"
     ]
    }
   ],
   "source": [
    "resultados_alinhamento=blast_resultados.alignments\n",
    "print(len(resultados_alinhamento)) \n",
    "print(resultados_alinhamento[8])\n",
    "alinhamento=resultados_alinhamento[8]\n",
    "print(alinhamento.hit_id)\n",
    "print(alinhamento.hit_def)\n",
    "print(alinhamento.accession)\n",
    "print(alinhamento.hsps)\n",
    "print(len(alinhamento.hsps))"
   ]
  },
  {
   "cell_type": "code",
   "execution_count": 23,
   "metadata": {},
   "outputs": [
    {
     "data": {
      "text/plain": [
       "1"
      ]
     },
     "execution_count": 23,
     "metadata": {},
     "output_type": "execute_result"
    }
   ],
   "source": [
    "x = blast_resultados.alignments[9]\n",
    "# for h in blast_resultados.alignments[9].hsps:\n",
    "len(blast_resultados.alignments[9].hsps)"
   ]
  },
  {
   "cell_type": "code",
   "execution_count": 24,
   "metadata": {},
   "outputs": [
    {
     "name": "stdout",
     "output_type": "stream",
     "text": [
      "50\n",
      "gb|PNJ68862.1| ELP4 isoform 5 [Pongo abelii]\n",
      "           Length = 425\n",
      "\n",
      "gb|PNJ68862.1|\n",
      "ELP4 isoform 5 [Pongo abelii]\n",
      "PNJ68862\n",
      "[<Bio.Blast.Record.HSP object at 0x000001368D797BA8>]\n",
      "1\n"
     ]
    }
   ],
   "source": [
    "resultados_alinhamento=blast_resultados.alignments\n",
    "print(len(resultados_alinhamento)) \n",
    "print(resultados_alinhamento[9])\n",
    "alinhamento=resultados_alinhamento[9]\n",
    "print(alinhamento.hit_id)\n",
    "print(alinhamento.hit_def)\n",
    "print(alinhamento.accession)\n",
    "print(alinhamento.hsps)\n",
    "print(len(alinhamento.hsps))"
   ]
  },
  {
   "cell_type": "code",
   "execution_count": 25,
   "metadata": {},
   "outputs": [
    {
     "data": {
      "text/plain": [
       "1"
      ]
     },
     "execution_count": 25,
     "metadata": {},
     "output_type": "execute_result"
    }
   ],
   "source": [
    "x = blast_resultados.alignments[10]\n",
    "# for h in blast_resultados.alignments[10].hsps:\n",
    "len(blast_resultados.alignments[10].hsps)"
   ]
  },
  {
   "cell_type": "code",
   "execution_count": 26,
   "metadata": {},
   "outputs": [
    {
     "name": "stdout",
     "output_type": "stream",
     "text": [
      "50\n",
      "ref|XP_030685346.1| elongator complex protein 4 isoform X1 [Nomascus leucogenys]\n",
      "           Length = 425\n",
      "\n",
      "ref|XP_030685346.1|\n",
      "elongator complex protein 4 isoform X1 [Nomascus leucogenys]\n",
      "XP_030685346\n",
      "[<Bio.Blast.Record.HSP object at 0x000001368D797CC0>]\n",
      "1\n"
     ]
    }
   ],
   "source": [
    "resultados_alinhamento=blast_resultados.alignments\n",
    "print(len(resultados_alinhamento)) \n",
    "print(resultados_alinhamento[10])\n",
    "alinhamento=resultados_alinhamento[10]\n",
    "print(alinhamento.hit_id)\n",
    "print(alinhamento.hit_def)\n",
    "print(alinhamento.accession)\n",
    "print(alinhamento.hsps)\n",
    "print(len(alinhamento.hsps))"
   ]
  }
 ],
 "metadata": {
  "kernelspec": {
   "display_name": "Python 3",
   "language": "python",
   "name": "python3"
  },
  "language_info": {
   "codemirror_mode": {
    "name": "ipython",
    "version": 3
   },
   "file_extension": ".py",
   "mimetype": "text/x-python",
   "name": "python",
   "nbconvert_exporter": "python",
   "pygments_lexer": "ipython3",
   "version": "3.7.3"
  }
 },
 "nbformat": 4,
 "nbformat_minor": 2
}
